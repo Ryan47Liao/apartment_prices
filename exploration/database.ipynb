{
 "cells": [
  {
   "cell_type": "code",
   "execution_count": 11,
   "metadata": {
    "collapsed": true
   },
   "outputs": [],
   "source": [
    "from sqlalchemy import create_engine\n",
    "from rent_scrapper import Arkadia_scrapper\n",
    "import pandas as pd\n",
    "import datetime"
   ]
  },
  {
   "cell_type": "code",
   "execution_count": 2,
   "outputs": [
    {
     "name": "stderr",
     "output_type": "stream",
     "text": [
      "100%|██████████| 19/19 [00:19<00:00,  1.04s/it]\n"
     ]
    }
   ],
   "source": [
    "scarpper_west_arkadia = Arkadia_scrapper()\n",
    "df_03 = scarpper_west_arkadia.main()"
   ],
   "metadata": {
    "collapsed": false
   }
  },
  {
   "cell_type": "code",
   "execution_count": 3,
   "outputs": [],
   "source": [
    "df_02 = pd.read_csv('sample_arkadia_11_03.csv',index_col=0)"
   ],
   "metadata": {
    "collapsed": false
   }
  },
  {
   "cell_type": "code",
   "execution_count": 4,
   "outputs": [],
   "source": [
    "df_02 = scarpper_west_arkadia.clean_data(df_02)"
   ],
   "metadata": {
    "collapsed": false
   }
  },
  {
   "cell_type": "code",
   "execution_count": 21,
   "outputs": [],
   "source": [
    "config = { 'user': \"root\",\n",
    "            'password': \"rootroot\",\n",
    "            'host': \"localhost\",\n",
    "            'database': \"apartments\",\n",
    "            'port': '3306'}"
   ],
   "metadata": {
    "collapsed": false
   }
  },
  {
   "cell_type": "code",
   "execution_count": 22,
   "outputs": [],
   "source": [
    "def create_url(user, password, host, database, port):\n",
    "    return f\"mysql://{user}:{password}@{host}:{port}/{database}\"\n",
    "\n",
    "pool = create_engine(url=create_url(**config),\n",
    "                     pool_size=20, max_overflow=0\n",
    "                     )\n",
    "with pool.connect() as conn:\n",
    "    df_02.to_sql('prices',conn,if_exists='append')"
   ],
   "metadata": {
    "collapsed": false
   }
  },
  {
   "cell_type": "code",
   "execution_count": null,
   "outputs": [],
   "source": [],
   "metadata": {
    "collapsed": false
   }
  }
 ],
 "metadata": {
  "kernelspec": {
   "display_name": "Python 3",
   "language": "python",
   "name": "python3"
  },
  "language_info": {
   "codemirror_mode": {
    "name": "ipython",
    "version": 2
   },
   "file_extension": ".py",
   "mimetype": "text/x-python",
   "name": "python",
   "nbconvert_exporter": "python",
   "pygments_lexer": "ipython2",
   "version": "2.7.6"
  }
 },
 "nbformat": 4,
 "nbformat_minor": 0
}
